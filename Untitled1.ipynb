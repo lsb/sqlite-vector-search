{
 "cells": [
  {
   "cell_type": "code",
   "execution_count": 1,
   "id": "c87d6079",
   "metadata": {},
   "outputs": [],
   "source": [
    "import json"
   ]
  },
  {
   "cell_type": "code",
   "execution_count": 9,
   "id": "d7040b6f",
   "metadata": {},
   "outputs": [
    {
     "data": {
      "text/plain": [
       "'[1,2,3,4,5]'"
      ]
     },
     "execution_count": 9,
     "metadata": {},
     "output_type": "execute_result"
    }
   ],
   "source": [
    "json.dumps([1,2,3,4,5], separators=(',',':'))"
   ]
  },
  {
   "cell_type": "code",
   "execution_count": 10,
   "id": "08fc8c80",
   "metadata": {},
   "outputs": [
    {
     "name": "stdout",
     "output_type": "stream",
     "text": [
      "Collecting u-msgpack-python\n",
      "  Downloading u_msgpack_python-2.7.2-py2.py3-none-any.whl (10.0 kB)\n",
      "Installing collected packages: u-msgpack-python\n",
      "Successfully installed u-msgpack-python-2.7.2\n",
      "\n",
      "\u001b[1m[\u001b[0m\u001b[34;49mnotice\u001b[0m\u001b[1;39;49m]\u001b[0m\u001b[39;49m A new release of pip available: \u001b[0m\u001b[31;49m22.3.1\u001b[0m\u001b[39;49m -> \u001b[0m\u001b[32;49m23.1.2\u001b[0m\n",
      "\u001b[1m[\u001b[0m\u001b[34;49mnotice\u001b[0m\u001b[1;39;49m]\u001b[0m\u001b[39;49m To update, run: \u001b[0m\u001b[32;49mpip install --upgrade pip\u001b[0m\n"
     ]
    }
   ],
   "source": [
    "! pip install u-msgpack-python"
   ]
  },
  {
   "cell_type": "code",
   "execution_count": 11,
   "id": "7e58a905",
   "metadata": {},
   "outputs": [],
   "source": [
    "import umsgpack"
   ]
  },
  {
   "cell_type": "code",
   "execution_count": 16,
   "id": "86c04c87",
   "metadata": {},
   "outputs": [
    {
     "data": {
      "text/plain": [
       "b'\\xdc\\x00\\x12\\x01\\x02\\x03\\x04\\x05\\x06\\x07\\x08\\t\\x01\\x02\\x03\\x04\\x05\\x06\\x07\\x08\\t'"
      ]
     },
     "execution_count": 16,
     "metadata": {},
     "output_type": "execute_result"
    }
   ],
   "source": [
    "umsgpack.packb([1,2,3,4,5,6,7,8,9,1,2,3,4,5,6,7,8,9])"
   ]
  },
  {
   "cell_type": "code",
   "execution_count": null,
   "id": "6e2cb41f",
   "metadata": {
    "collapsed": true
   },
   "outputs": [],
   "source": []
  }
 ],
 "metadata": {
  "kernelspec": {
   "display_name": "Python 3 (ipykernel)",
   "language": "python",
   "name": "python3"
  },
  "language_info": {
   "codemirror_mode": {
    "name": "ipython",
    "version": 3
   },
   "file_extension": ".py",
   "mimetype": "text/x-python",
   "name": "python",
   "nbconvert_exporter": "python",
   "pygments_lexer": "ipython3",
   "version": "3.11.2"
  }
 },
 "nbformat": 4,
 "nbformat_minor": 5
}
